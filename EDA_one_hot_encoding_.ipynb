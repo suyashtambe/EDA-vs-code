{
  "nbformat": 4,
  "nbformat_minor": 0,
  "metadata": {
    "colab": {
      "provenance": []
    },
    "kernelspec": {
      "name": "python3",
      "display_name": "Python 3"
    },
    "language_info": {
      "name": "python"
    }
  },
  "cells": [
    {
      "cell_type": "code",
      "execution_count": null,
      "metadata": {
        "id": "JQoMOW4Ma37E"
      },
      "outputs": [],
      "source": [
        "import numpy as np\n",
        "import pandas as pd"
      ]
    },
    {
      "cell_type": "code",
      "source": [
        "df = pd.DataFrame({'team':['A', 'A', 'B', 'B', 'B', 'B', 'C', 'C'],\n",
        "                   'points':[25,12,15,14,19,23,25,29]})\n",
        "\n",
        "\n",
        "print(df)"
      ],
      "metadata": {
        "colab": {
          "base_uri": "https://localhost:8080/"
        },
        "id": "hzOAeIajhebu",
        "outputId": "0b0f5015-117c-405a-e54c-fcd8eeb0aff6"
      },
      "execution_count": null,
      "outputs": [
        {
          "output_type": "stream",
          "name": "stdout",
          "text": [
            "  team  points\n",
            "0    A      25\n",
            "1    A      12\n",
            "2    B      15\n",
            "3    B      14\n",
            "4    B      19\n",
            "5    B      23\n",
            "6    C      25\n",
            "7    C      29\n"
          ]
        }
      ]
    },
    {
      "cell_type": "markdown",
      "source": [
        "#creating instance of one-hot-encoder\n",
        "\n",
        "#perform one-hot encoding on 'team' column"
      ],
      "metadata": {
        "id": "MinJgKGMtDK5"
      }
    },
    {
      "cell_type": "code",
      "source": [
        "from sklearn.preprocessing import OneHotEncoder\n",
        "\n",
        "encoder = OneHotEncoder(handle_unknown='ignore')\n",
        "\n",
        "encoder_df = pd.DataFrame(encoder.fit_transform(df[['team']]).toarray())\n",
        "\n",
        "final_df = df.join(encoder_df)\n",
        "print(final_df)"
      ],
      "metadata": {
        "colab": {
          "base_uri": "https://localhost:8080/"
        },
        "id": "QVLL9pTjrIUY",
        "outputId": "816962ab-2384-45a5-a5b9-f7d67a788908"
      },
      "execution_count": null,
      "outputs": [
        {
          "output_type": "stream",
          "name": "stdout",
          "text": [
            "  team  points    0    1    2\n",
            "0    A      25  1.0  0.0  0.0\n",
            "1    A      12  1.0  0.0  0.0\n",
            "2    B      15  0.0  1.0  0.0\n",
            "3    B      14  0.0  1.0  0.0\n",
            "4    B      19  0.0  1.0  0.0\n",
            "5    B      23  0.0  1.0  0.0\n",
            "6    C      25  0.0  0.0  1.0\n",
            "7    C      29  0.0  0.0  1.0\n"
          ]
        }
      ]
    },
    {
      "cell_type": "code",
      "source": [
        "final_df.drop('team', axis=1, inplace=True)\n",
        "print(final_df)"
      ],
      "metadata": {
        "colab": {
          "base_uri": "https://localhost:8080/"
        },
        "id": "B_ZsGqzfsiQ0",
        "outputId": "f1cf8926-db6f-4abb-e209-4df034cd9e4a"
      },
      "execution_count": null,
      "outputs": [
        {
          "output_type": "stream",
          "name": "stdout",
          "text": [
            "   points    0    1    2\n",
            "0      25  1.0  0.0  0.0\n",
            "1      12  1.0  0.0  0.0\n",
            "2      15  0.0  1.0  0.0\n",
            "3      14  0.0  1.0  0.0\n",
            "4      19  0.0  1.0  0.0\n",
            "5      23  0.0  1.0  0.0\n",
            "6      25  0.0  0.0  1.0\n",
            "7      29  0.0  0.0  1.0\n"
          ]
        }
      ]
    },
    {
      "cell_type": "markdown",
      "source": [
        "create a dataframe with columns as \"Gender\",\"Age\",\"Degree\",\n",
        "create 10 datavalues in this data set\n",
        "apply one-hot encoding on the column\n",
        "1 gender\n",
        "2 degree"
      ],
      "metadata": {
        "id": "6hw4gpnNucBR"
      }
    },
    {
      "cell_type": "code",
      "source": [
        "df = pd.DataFrame({'Gender':['M', 'M', 'F', 'M', 'F', 'F', 'F', 'M'],\n",
        "                   'Age':[25,12,15,14,19,23,25,29], 'Degree':['Btech', 'Mtech', 'BSC', 'Btech', 'BBA', 'Mtech', 'Btech', 'MBA']})\n",
        "\n",
        "print(df)\n",
        "\n"
      ],
      "metadata": {
        "colab": {
          "base_uri": "https://localhost:8080/"
        },
        "id": "SR5fIUW3uzCt",
        "outputId": "073e06c7-d35b-4ba9-eaa2-6ee4eb4785f3"
      },
      "execution_count": null,
      "outputs": [
        {
          "output_type": "stream",
          "name": "stdout",
          "text": [
            "  Gender  Age Degree\n",
            "0      M   25  Btech\n",
            "1      M   12  Mtech\n",
            "2      F   15    BSC\n",
            "3      M   14  Btech\n",
            "4      F   19    BBA\n",
            "5      F   23  Mtech\n",
            "6      F   25  Btech\n",
            "7      M   29    MBA\n"
          ]
        }
      ]
    },
    {
      "cell_type": "code",
      "source": [
        "from sklearn.preprocessing import OneHotEncoder\n",
        "\n",
        "encoder = OneHotEncoder(handle_unknown='ignore')\n",
        "\n",
        "encoder_df = pd.DataFrame(encoder.fit_transform(df[['Gender']]).toarray())\n",
        "\n",
        "final_df = df.join(encoder_df)\n",
        "print(final_df)"
      ],
      "metadata": {
        "colab": {
          "base_uri": "https://localhost:8080/"
        },
        "id": "FNpm6sDyviOH",
        "outputId": "fb86de46-f2b6-49bf-b2a5-bb4d5e81a997"
      },
      "execution_count": null,
      "outputs": [
        {
          "output_type": "stream",
          "name": "stdout",
          "text": [
            "  Gender  Age Degree    0    1\n",
            "0      M   25  Btech  0.0  1.0\n",
            "1      M   12  Mtech  0.0  1.0\n",
            "2      F   15    BSC  1.0  0.0\n",
            "3      M   14  Btech  0.0  1.0\n",
            "4      F   19    BBA  1.0  0.0\n",
            "5      F   23  Mtech  1.0  0.0\n",
            "6      F   25  Btech  1.0  0.0\n",
            "7      M   29    MBA  0.0  1.0\n"
          ]
        }
      ]
    },
    {
      "cell_type": "code",
      "source": [
        "final_df.drop('Gender', axis=1, inplace=True)\n",
        "print(final_df)"
      ],
      "metadata": {
        "colab": {
          "base_uri": "https://localhost:8080/"
        },
        "id": "MN2Wh91hvmvC",
        "outputId": "cf8c2bed-6509-458d-ac77-37cd5297c8a9"
      },
      "execution_count": null,
      "outputs": [
        {
          "output_type": "stream",
          "name": "stdout",
          "text": [
            "   Age Degree    0    1\n",
            "0   25  Btech  0.0  1.0\n",
            "1   12  Mtech  0.0  1.0\n",
            "2   15    BSC  1.0  0.0\n",
            "3   14  Btech  0.0  1.0\n",
            "4   19    BBA  1.0  0.0\n",
            "5   23  Mtech  1.0  0.0\n",
            "6   25  Btech  1.0  0.0\n",
            "7   29    MBA  0.0  1.0\n"
          ]
        }
      ]
    },
    {
      "cell_type": "code",
      "source": [],
      "metadata": {
        "id": "_aEuH4jnvqaf"
      },
      "execution_count": null,
      "outputs": []
    }
  ]
}