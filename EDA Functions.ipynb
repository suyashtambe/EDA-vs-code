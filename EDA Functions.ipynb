{
 "cells": [
  {
   "cell_type": "code",
   "execution_count": 6,
   "metadata": {},
   "outputs": [
    {
     "name": "stdout",
     "output_type": "stream",
     "text": [
      "The maximum of 80.0, 70.0, and 58.0 is 80.0\n"
     ]
    }
   ],
   "source": [
    "def find_max_of_three_numbers():\n",
    "    try:\n",
    "        num1 = float(input(\"Enter the first number: \"))\n",
    "        num2 = float(input(\"Enter the second number: \"))\n",
    "        num3 = float(input(\"Enter the third number: \"))\n",
    "        \n",
    "        max_number = max(num1, num2, num3)\n",
    "        \n",
    "        print(f\"The maximum of {num1}, {num2}, and {num3} is {max_number}\")\n",
    "    except ValueError:\n",
    "        print(\"error. Please enter valid number.\")\n",
    "\n",
    "find_max_of_three_numbers()\n",
    "_"
   ]
  },
  {
   "cell_type": "code",
   "execution_count": 12,
   "metadata": {},
   "outputs": [
    {
     "name": "stdout",
     "output_type": "stream",
     "text": [
      "9.0\n"
     ]
    }
   ],
   "source": [
    "x = float(input(\"Enter first number:\"))\n",
    "y = float(input(\"Enter second number:\"))\n",
    "z = float(input(\"Enter third number:\"))\n",
    "\n",
    "def max_num(x, y, z):\n",
    "    if (x > y) and (x > z):\n",
    "        return x\n",
    "    elif (y > x) and (y > z):\n",
    "        return y\n",
    "    else:\n",
    "        return z\n",
    "\n",
    "print(max_num(x, y, z))\n"
   ]
  },
  {
   "cell_type": "code",
   "execution_count": 16,
   "metadata": {},
   "outputs": [
    {
     "name": "stdout",
     "output_type": "stream",
     "text": [
      "Sum of the numbers: 25.0\n"
     ]
    }
   ],
   "source": [
    "# write a python function to sum all the numbers in a list \n",
    "\n",
    "def sum(numbers):\n",
    "    total = 0\n",
    "    for x in  numbers:\n",
    "        total += x\n",
    "    return total \n",
    "\n",
    "\n",
    "num_list = []\n",
    "\n",
    "n = int(input(\"Enter the number of elements: \"))  \n",
    "\n",
    "for _ in range(n):\n",
    "    num = float(input(\"Enter a number: \")) \n",
    "    num_list.append(num) \n",
    "\n",
    "result = sum_of_numbers(num_list)\n",
    "print(\"Sum of the numbers:\", result)\n"
   ]
  },
  {
   "cell_type": "code",
   "execution_count": 15,
   "metadata": {},
   "outputs": [
    {
     "name": "stdout",
     "output_type": "stream",
     "text": [
      "Sum of the numbers: 9.0\n"
     ]
    }
   ],
   "source": [
    "# WAP Program to find sum of three numbers\n",
    "def sum_of_numbers(numbers):\n",
    "    total = 0\n",
    "    for x in numbers:\n",
    "        total += x\n",
    "    return total\n",
    "\n",
    "num_list = []\n",
    "\n",
    "n = int(input(\"Enter the number of elements: \"))  \n",
    "\n",
    "for _ in range(n):\n",
    "    num = float(input(\"Enter a number: \"))  \n",
    "    num_list.append(num)  \n",
    "\n",
    "result = sum_of_numbers(num_list)\n",
    "print(\"Sum of the numbers:\", result)\n"
   ]
  },
  {
   "cell_type": "code",
   "execution_count": 30,
   "metadata": {},
   "outputs": [
    {
     "name": "stdout",
     "output_type": "stream",
     "text": [
      "Suyash\n"
     ]
    }
   ],
   "source": [
    "#write a python progam to reverse a string\n",
    "def string_reverse(str1):\n",
    "    rtsr = ''\n",
    "    index = len(str1)\n",
    "    while index > 0:\n",
    "        rtsr += str1[index - 1]\n",
    "        index = index - 1\n",
    "    return rtsr\n",
    "\n",
    "print(string_reverse('hsayuS'))\n"
   ]
  },
  {
   "cell_type": "code",
   "execution_count": 25,
   "metadata": {},
   "outputs": [
    {
     "name": "stdout",
     "output_type": "stream",
     "text": [
      "Original list:  (6, 7, 8, 9, 10)\n",
      "Triple of said lists\n",
      "[18, 21, 24, 27, 30]\n"
     ]
    }
   ],
   "source": [
    "# WAP program to triple all numbers in a given list of integers. use python map\n",
    "\n",
    "nums = (6,7,8,9,10)\n",
    "print(\"Original list: \", nums)\n",
    "result = map(lambda x: x + x + x, nums)\n",
    "print(\"Triple of said lists\")\n",
    "print(list(result))"
   ]
  },
  {
   "cell_type": "code",
   "execution_count": null,
   "metadata": {},
   "outputs": [],
   "source": []
  }
 ],
 "metadata": {
  "kernelspec": {
   "display_name": "Python 3",
   "language": "python",
   "name": "python3"
  },
  "language_info": {
   "codemirror_mode": {
    "name": "ipython",
    "version": 3
   },
   "file_extension": ".py",
   "mimetype": "text/x-python",
   "name": "python",
   "nbconvert_exporter": "python",
   "pygments_lexer": "ipython3",
   "version": "3.11.4"
  },
  "orig_nbformat": 4
 },
 "nbformat": 4,
 "nbformat_minor": 2
}
