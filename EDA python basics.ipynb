{
 "cells": [
  {
   "cell_type": "code",
   "execution_count": null,
   "metadata": {},
   "outputs": [],
   "source": [
    "ages = [5, 12, 17, 18, 24, 32]\n",
    "\n",
    "def myFunc(x):\n",
    "    if x < 18:\n",
    "        return False\n",
    "    else:\n",
    "        return True\n",
    "    \n",
    "adults = filter(myFunc, ages)\n",
    "\n",
    "for x in adults:\n",
    "    print(x)"
   ]
  },
  {
   "cell_type": "code",
   "execution_count": 1,
   "metadata": {},
   "outputs": [
    {
     "name": "stdout",
     "output_type": "stream",
     "text": [
      "3 4 5\n"
     ]
    }
   ],
   "source": [
    "def add_numbers(x, y, z):\n",
    "    a = x + y\n",
    "    b = x + z\n",
    "    c = y + z\n",
    "    print(a,b,c)\n",
    "\n",
    "add_numbers(1, 2, 3)    "
   ]
  },
  {
   "cell_type": "code",
   "execution_count": 7,
   "metadata": {},
   "outputs": [
    {
     "name": "stdout",
     "output_type": "stream",
     "text": [
      "The Number is Smaller than 30, no table available\n"
     ]
    }
   ],
   "source": [
    "def table(x):\n",
    "    for i in range(1,11):\n",
    "      print(f\"{x} into {i} is equal to {x*i}\")\n",
    "s=int(input(\"Enter Number:\"))\n",
    "if s>=30:\n",
    "  table(s)\n",
    "else:\n",
    "  print(\"The Number is Smaller than 30, no table available\")"
   ]
  },
  {
   "cell_type": "code",
   "execution_count": 4,
   "metadata": {},
   "outputs": [
    {
     "name": "stdout",
     "output_type": "stream",
     "text": [
      "Name: Suyash\n",
      "Age: 19\n",
      "Address: Pune, Maharshtra, India\n",
      "Qualification: Btech in AIML\n",
      "experience: 5 years in microsoft\n"
     ]
    }
   ],
   "source": [
    "#the function takes name, age,qualification and experience\n",
    "\n",
    "\n",
    "def personal_details():\n",
    "    name, age = \"Suyash\", 19\n",
    "    address = \"Pune, Maharshtra, India\"\n",
    "    Qualification = \"Btech in AIML\"\n",
    "    experience = \"5 years in microsoft\"\n",
    "    print(\"Name: {}\\nAge: {}\\nAddress: {}\\nQualification: {}\\nexperience: {}\".format(name, age, address, Qualification, experience))\n",
    "\n",
    "personal_details()\n"
   ]
  },
  {
   "cell_type": "code",
   "execution_count": null,
   "metadata": {},
   "outputs": [],
   "source": []
  }
 ],
 "metadata": {
  "kernelspec": {
   "display_name": "Python 3",
   "language": "python",
   "name": "python3"
  },
  "language_info": {
   "codemirror_mode": {
    "name": "ipython",
    "version": 3
   },
   "file_extension": ".py",
   "mimetype": "text/x-python",
   "name": "python",
   "nbconvert_exporter": "python",
   "pygments_lexer": "ipython3",
   "version": "3.11.4"
  },
  "orig_nbformat": 4
 },
 "nbformat": 4,
 "nbformat_minor": 2
}
